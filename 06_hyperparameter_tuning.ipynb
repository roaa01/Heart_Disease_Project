{
  "nbformat": 4,
  "nbformat_minor": 0,
  "metadata": {
    "colab": {
      "provenance": []
    },
    "kernelspec": {
      "name": "python3",
      "display_name": "Python 3"
    },
    "language_info": {
      "name": "python"
    }
  },
  "cells": [
    {
      "cell_type": "code",
      "execution_count": 1,
      "metadata": {
        "colab": {
          "base_uri": "https://localhost:8080/"
        },
        "id": "Eg8sV14vpq0C",
        "outputId": "76c3986f-9998-4eb6-b665-366abc10182f"
      },
      "outputs": [
        {
          "output_type": "stream",
          "name": "stdout",
          "text": [
            "Best params: {'max_depth': None, 'min_samples_split': 10, 'n_estimators': 200}\n",
            "Optimized F1: 0.8524590163934426\n",
            "Baseline F1: 0.819672131147541\n"
          ]
        }
      ],
      "source": [
        "import pandas as pd\n",
        "from sklearn.model_selection import GridSearchCV, train_test_split\n",
        "from sklearn.ensemble import RandomForestClassifier  # Example on RF\n",
        "from sklearn.metrics import f1_score\n",
        "\n",
        "# Load selected features\n",
        "df_selected = pd.read_csv('selected_features_heart_disease.csv')\n",
        "X = df_selected.drop('target', axis=1)\n",
        "y = df_selected['target']\n",
        "X_train, X_test, y_train, y_test = train_test_split(X, y, test_size=0.2, random_state=42)\n",
        "\n",
        "# Hyperparameter grid for Random Forest (example; repeat for others)\n",
        "param_grid = {\n",
        "    'n_estimators': [100, 200, 300],\n",
        "    'max_depth': [None, 10, 20],\n",
        "    'min_samples_split': [2, 5, 10]\n",
        "}\n",
        "\n",
        "rf = RandomForestClassifier(random_state=42)\n",
        "grid_search = GridSearchCV(rf, param_grid, cv=5, scoring='f1')\n",
        "grid_search.fit(X_train, y_train)\n",
        "\n",
        "print(\"Best params:\", grid_search.best_params_)\n",
        "best_model = grid_search.best_estimator_\n",
        "y_pred = best_model.predict(X_test)\n",
        "print(\"Optimized F1:\", f1_score(y_test, y_pred))\n",
        "\n",
        "# Compare with baseline\n",
        "baseline_rf = RandomForestClassifier(random_state=42)\n",
        "baseline_rf.fit(X_train, y_train)\n",
        "print(\"Baseline F1:\", f1_score(y_test, baseline_rf.predict(X_test)))"
      ]
    },
    {
      "cell_type": "code",
      "source": [
        "import joblib\n",
        "import os\n",
        "\n",
        "# Create the 'models' directory if it doesn't exist\n",
        "if not os.path.exists('models'):\n",
        "    os.makedirs('models')\n",
        "\n",
        "# Save model (from above)\n",
        "joblib.dump(best_model, 'models/final_model.pkl')\n",
        "print(\"Model saved as 'final_model.pkl'.\")\n",
        "\n",
        "# For pipeline (preprocessing + model), use sklearn Pipeline\n",
        "from sklearn.pipeline import Pipeline\n",
        "# Example: pipeline = Pipeline([('scaler', StandardScaler()), ('model', best_model)])\n",
        "# joblib.dump(pipeline, 'models/full_pipeline.pkl')"
      ],
      "metadata": {
        "colab": {
          "base_uri": "https://localhost:8080/"
        },
        "id": "5oPOUTZrvGPe",
        "outputId": "95d8ee9b-52da-49ee-afd7-fa22fcf56abf"
      },
      "execution_count": 3,
      "outputs": [
        {
          "output_type": "stream",
          "name": "stdout",
          "text": [
            "Model saved as 'final_model.pkl'.\n"
          ]
        }
      ]
    }
  ]
}